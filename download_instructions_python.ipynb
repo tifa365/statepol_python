{
 "cells": [
  {
   "cell_type": "markdown",
   "id": "5df5cfc5",
   "metadata": {},
   "source": [
    "# Python\n",
    "\n",
    "To download the data in Python, you can use the panda's pd.read_csv function.\n"
   ]
  },
  {
   "cell_type": "markdown",
   "id": "3cb29763",
   "metadata": {},
   "source": [
    "## Politician\n"
   ]
  },
  {
   "cell_type": "code",
   "execution_count": 1,
   "id": "3e6e6826",
   "metadata": {},
   "outputs": [
    {
     "name": "stdout",
     "output_type": "stream",
     "text": [
      "                      name                   name.wikitag birthplace  \\\n",
      "0  A. W. Heinrich Langhein  /wiki/A._W._Heinrich_Langhein    Hamburg   \n",
      "1              Achim Block              /wiki/Achim_Block   Hannover   \n",
      "2             Achim Häßler   /wiki/Achim_H%C3%A4%C3%9Fler    Colditz   \n",
      "3             Achim Hütten        /wiki/Achim_H%C3%BCtten  Andernach   \n",
      "4              Achim Kunze              /wiki/Achim_Kunze  Stockheim   \n",
      "\n",
      "  birthplace.wikitag  birthplace.latitude  birthplace.longititude  \\\n",
      "0      /wiki/Hamburg            53.550341               10.000654   \n",
      "1     /wiki/Hannover            52.374478                9.738553   \n",
      "2      /wiki/Colditz            51.129550               12.806584   \n",
      "3    /wiki/Andernach            50.439192                7.402315   \n",
      "4  /wiki/Bad_Lausick            50.458360               10.272953   \n",
      "\n",
      "  birthplace.region birthplace.subregion birthplace.country  \\\n",
      "0            Europe       Western Europe            Germany   \n",
      "1            Europe       Western Europe            Germany   \n",
      "2            Europe       Western Europe            Germany   \n",
      "3            Europe       Western Europe            Germany   \n",
      "4            Europe       Western Europe            Germany   \n",
      "\n",
      "  birthplace.country.code birthplace.state birthplace.state.code  \\\n",
      "0                      DE          Hamburg                 DE-HH   \n",
      "1                      DE    Niedersachsen                 DE-NI   \n",
      "2                      DE          Sachsen                 DE-SN   \n",
      "3                      DE  Rheinland-Pfalz                 DE-RP   \n",
      "4                      DE           Bayern                 DE-BY   \n",
      "\n",
      "  birthplace.city   birthdate gender  \n",
      "0         Hamburg  1962-04-29    NaN  \n",
      "1        Hannover  1932-02-28   male  \n",
      "2             NaN  1953-07-07   male  \n",
      "3             NaN  1957-05-09   male  \n",
      "4             NaN  1932-05-05   male  \n"
     ]
    }
   ],
   "source": [
    "import pandas as pd\n",
    "\n",
    "# Fetch current version\n",
    "database_version_url = (\n",
    "    \"https://raw.githubusercontent.com/StatePol/Database/main/VERSION\"\n",
    ")\n",
    "database_version = pd.read_csv(database_version_url, header=None).iloc[0, 0]\n",
    "\n",
    "# Download file\n",
    "politician_url = f\"https://raw.githubusercontent.com/StatePol/Database/main/_data/database/politicians_{database_version}.csv\"\n",
    "politician_df = pd.read_csv(politician_url)\n",
    "print(politician_df.head())"
   ]
  },
  {
   "cell_type": "markdown",
   "id": "580017fc",
   "metadata": {},
   "source": [
    "## Mandate\n"
   ]
  },
  {
   "cell_type": "code",
   "execution_count": 2,
   "id": "fdcdfa92",
   "metadata": {},
   "outputs": [
    {
     "name": "stdout",
     "output_type": "stream",
     "text": [
      "                              id              name.wikitag     constituency  \\\n",
      "0   /wiki/Klaus-Dieter_Arlt-bb-1   /wiki/Klaus-Dieter_Arlt              NaN   \n",
      "1          /wiki/Marga_Beck-bb-1          /wiki/Marga_Beck  Lübben – Luckau   \n",
      "2   /wiki/Kerstin_Bednarsky-bb-1   /wiki/Kerstin_Bednarsky              NaN   \n",
      "3  /wiki/Hannelore_Birkholz-bb-1  /wiki/Hannelore_Birkholz              NaN   \n",
      "4   /wiki/Marianne_Birthler-bb-1   /wiki/Marianne_Birthler              NaN   \n",
      "\n",
      "        mandate  voteshare landtag.state landtag.state.abb  electoralperiod  \\\n",
      "0           NaN        NaN   Brandenburg                bb                1   \n",
      "1  Direktmandat        NaN   Brandenburg                bb                1   \n",
      "2           NaN        NaN   Brandenburg                bb                1   \n",
      "3           NaN        NaN   Brandenburg                bb                1   \n",
      "4           NaN        NaN   Brandenburg                bb                1   \n",
      "\n",
      "   term.start    term.end  \n",
      "0  1990-10-26  1994-10-10  \n",
      "1  1990-10-26  1994-10-10  \n",
      "2  1990-10-26  1994-10-10  \n",
      "3  1990-10-26  1994-10-10  \n",
      "4  1990-10-26  1994-10-10  \n"
     ]
    }
   ],
   "source": [
    "mandate_url = f\"https://raw.githubusercontent.com/StatePol/Database/main/_data/database/mandate_{database_version}.csv\"\n",
    "mandate_df = pd.read_csv(mandate_url)\n",
    "print(mandate_df.head())"
   ]
  },
  {
   "cell_type": "markdown",
   "id": "67590ac9",
   "metadata": {},
   "source": [
    "## PPG\n"
   ]
  },
  {
   "cell_type": "code",
   "execution_count": 3,
   "id": "f31731a5",
   "metadata": {},
   "outputs": [
    {
     "name": "stdout",
     "output_type": "stream",
     "text": [
      "  Unnamed: 0                             id              name.wikitag  \\\n",
      "0       BB.1   /wiki/Klaus-Dieter_Arlt-bb-1   /wiki/Klaus-Dieter_Arlt   \n",
      "1       BB.2          /wiki/Marga_Beck-bb-1          /wiki/Marga_Beck   \n",
      "2       BB.3   /wiki/Kerstin_Bednarsky-bb-1   /wiki/Kerstin_Bednarsky   \n",
      "3       BB.4  /wiki/Hannelore_Birkholz-bb-1  /wiki/Hannelore_Birkholz   \n",
      "4       BB.5   /wiki/Marianne_Birthler-bb-1   /wiki/Marianne_Birthler   \n",
      "\n",
      "     fraction fraction.id  start.date    end.date landtag.state.abb  \\\n",
      "0         CDU         CDU  1990-10-26  1992-03-11                bb   \n",
      "1         CDU         CDU  1990-10-26  1994-10-10                bb   \n",
      "2      PDS-LL       LINKE  1990-10-26  1994-10-10                bb   \n",
      "3      PDS-LL       LINKE  1990-10-26  1994-10-10                bb   \n",
      "4  Bündnis 90       GRÜNE  1990-10-26  1992-09-30                bb   \n",
      "\n",
      "   electoralperiod  \n",
      "0                1  \n",
      "1                1  \n",
      "2                1  \n",
      "3                1  \n",
      "4                1  \n"
     ]
    }
   ],
   "source": [
    "ppg_url = f\"https://raw.githubusercontent.com/StatePol/Database/main/_data/database/faction_{database_version}.csv\"\n",
    "ppg_df = pd.read_csv(ppg_url)\n",
    "print(ppg_df.head())"
   ]
  },
  {
   "cell_type": "markdown",
   "id": "506a028d",
   "metadata": {},
   "source": [
    "## PPG-Leadership\n"
   ]
  },
  {
   "cell_type": "code",
   "execution_count": 4,
   "id": "b3b3911f",
   "metadata": {},
   "outputs": [
    {
     "name": "stdout",
     "output_type": "stream",
     "text": [
      "  Unnamed: 0                                id                 name.wikitag  \\\n",
      "0       BB.1      /wiki/Wolfgang_Birthler-bb-1      /wiki/Wolfgang_Birthler   \n",
      "1       BB.2  /wiki/Peter-Michael_Diestel-bb-1  /wiki/Peter-Michael_Diestel   \n",
      "2       BB.3            /wiki/Dieter_Helm-bb-1            /wiki/Dieter_Helm   \n",
      "3       BB.4           /wiki/Lothar_Bisky-bb-1           /wiki/Lothar_Bisky   \n",
      "4       BB.5      /wiki/G%C3%BCnter_Nooke-bb-1      /wiki/G%C3%BCnter_Nooke   \n",
      "\n",
      "     fraction fraction.id          position    position.clean  start.date  \\\n",
      "0         SPD         SPD  Fraktionsvorsitz  Fraktionsvorsitz  1990-10-26   \n",
      "1         CDU         CDU  Fraktionsvorsitz  Fraktionsvorsitz  1990-10-26   \n",
      "2         CDU         CDU  Fraktionsvorsitz  Fraktionsvorsitz  1992-05-24   \n",
      "3      PDS-LL       LINKE  Fraktionsvorsitz  Fraktionsvorsitz  1990-10-26   \n",
      "4  Bündnis 90       GRÜNE  Fraktionsvorsitz  Fraktionsvorsitz  1990-10-26   \n",
      "\n",
      "     end.date landtag.state.abb  electoralperiod  \n",
      "0  1994-10-10                bb                1  \n",
      "1  1992-05-08                bb                1  \n",
      "2  1994-10-10                bb                1  \n",
      "3  1994-10-10                bb                1  \n",
      "4  1994-10-10                bb                1  \n"
     ]
    }
   ],
   "source": [
    "ppgleadership_url = f\"https://raw.githubusercontent.com/StatePol/Database/main/_data/database/board_{database_version}.csv\"\n",
    "ppgleadership_df = pd.read_csv(ppgleadership_url)\n",
    "print(ppgleadership_df.head())"
   ]
  },
  {
   "cell_type": "markdown",
   "id": "04e521d4",
   "metadata": {},
   "source": [
    "## Presidency\n"
   ]
  },
  {
   "cell_type": "code",
   "execution_count": 5,
   "id": "cfdd6fae",
   "metadata": {},
   "outputs": [
    {
     "name": "stdout",
     "output_type": "stream",
     "text": [
      "  Unnamed: 0                                id                 name.wikitag  \\\n",
      "0       BB.1       /wiki/Herbert_Knoblich-bb-1       /wiki/Herbert_Knoblich   \n",
      "1       BB.2  /wiki/Karl-Heinz_Kretschmer-bb-1  /wiki/Karl-Heinz_Kretschmer   \n",
      "2       BB.3       /wiki/Martin_Habermann-bb-1       /wiki/Martin_Habermann   \n",
      "3       BB.4       /wiki/Herbert_Knoblich-bb-2       /wiki/Herbert_Knoblich   \n",
      "4       BB.5       /wiki/Martin_Habermann-bb-2       /wiki/Martin_Habermann   \n",
      "\n",
      "                   position            position.clean  start.date    end.date  \\\n",
      "0      Landtagspräsident/in      Landtagspräsident/in  1990-10-26  1994-10-10   \n",
      "1  Landtagsvizepräsident/in  Landtagsvizepräsident/in  1990-10-26  1991-09-24   \n",
      "2  Landtagsvizepräsident/in  Landtagsvizepräsident/in  1991-09-25  1994-10-10   \n",
      "3      Landtagspräsident/in      Landtagspräsident/in  1994-10-11  1999-09-28   \n",
      "4  Landtagsvizepräsident/in  Landtagsvizepräsident/in  1994-10-11  1999-09-28   \n",
      "\n",
      "  landtag.state.abb  electoralperiod  \n",
      "0                bb                1  \n",
      "1                bb                1  \n",
      "2                bb                1  \n",
      "3                bb                2  \n",
      "4                bb                2  \n"
     ]
    }
   ],
   "source": [
    "presidency_url = f\"https://raw.githubusercontent.com/StatePol/Database/main/_data/database/presidium_{database_version}.csv\"\n",
    "presidency_df = pd.read_csv(presidency_url)\n",
    "print(presidency_df.head())"
   ]
  },
  {
   "cell_type": "markdown",
   "id": "ac3b8ccb",
   "metadata": {},
   "source": [
    "## Committee\n"
   ]
  },
  {
   "cell_type": "code",
   "execution_count": 6,
   "id": "7b052cf2",
   "metadata": {},
   "outputs": [
    {
     "name": "stdout",
     "output_type": "stream",
     "text": [
      "  Unnamed: 0                            id             name.wikitag  \\\n",
      "0       BB.1  /wiki/Wolfgang_Birthler-bb-1  /wiki/Wolfgang_Birthler   \n",
      "1       BB.2  /wiki/Christel_Dettmann-bb-1  /wiki/Christel_Dettmann   \n",
      "2       BB.3   /wiki/Herbert_Knoblich-bb-1   /wiki/Herbert_Knoblich   \n",
      "3       BB.4     /wiki/Steffen_Reiche-bb-1     /wiki/Steffen_Reiche   \n",
      "4       BB.5     /wiki/Barbara_Tietze-bb-1     /wiki/Barbara_Tietze   \n",
      "\n",
      "        committee  agriculture  committe_of_inquiry  culture_sports_leisure  \\\n",
      "0  Hauptausschuss        False                False                   False   \n",
      "1  Hauptausschuss        False                False                   False   \n",
      "2  Hauptausschuss        False                False                   False   \n",
      "3  Hauptausschuss        False                False                   False   \n",
      "4  Hauptausschuss        False                False                   False   \n",
      "\n",
      "   economy_finance  education_science  environment  ...  social  technology  \\\n",
      "0            False              False        False  ...   False       False   \n",
      "1            False              False        False  ...   False       False   \n",
      "2            False              False        False  ...   False       False   \n",
      "3            False              False        False  ...   False       False   \n",
      "4            False              False        False  ...   False       False   \n",
      "\n",
      "   main_committee  media  position  position.clean  start.date  end.date  \\\n",
      "0            True  False   Vorsitz         Vorsitz         NaN       NaN   \n",
      "1            True  False  Mitglied        Mitglied         NaN       NaN   \n",
      "2            True  False  Mitglied        Mitglied         NaN       NaN   \n",
      "3            True  False  Mitglied        Mitglied         NaN       NaN   \n",
      "4            True  False  Mitglied        Mitglied         NaN       NaN   \n",
      "\n",
      "   landtag.state.abb  electoralperiod  \n",
      "0                 bb                1  \n",
      "1                 bb                1  \n",
      "2                 bb                1  \n",
      "3                 bb                1  \n",
      "4                 bb                1  \n",
      "\n",
      "[5 rows x 29 columns]\n"
     ]
    }
   ],
   "source": [
    "committee_url = f\"https://raw.githubusercontent.com/StatePol/Database/main/_data/database/committee_{database_version}.csv\"\n",
    "committee_df = pd.read_csv(committee_url)\n",
    "print(committee_df.head())"
   ]
  },
  {
   "cell_type": "markdown",
   "id": "f3b05058",
   "metadata": {},
   "source": [
    "## Cabinet\n"
   ]
  },
  {
   "cell_type": "code",
   "execution_count": 7,
   "id": "cbecfd62",
   "metadata": {},
   "outputs": [
    {
     "name": "stdout",
     "output_type": "stream",
     "text": [
      "   Unnamed: 0                    name                                      id  \\\n",
      "0           1          Manfred Stolpe               /wiki/Manfred_Stolpe-bb-1   \n",
      "1           2              Alwin Ziel                   /wiki/Alwin_Ziel-bb-1   \n",
      "2           3              Alwin Ziel                   /wiki/Alwin_Ziel-bb-1   \n",
      "3           4  Klaus-Dieter Kühbacher  /wiki/Klaus-Dieter_K%C3%BChbacher-bb-1   \n",
      "4           5     Hans-Otto Bräutigam     /wiki/Hans_Otto_Br%C3%A4utigam-bb-1   \n",
      "\n",
      "                        name.wikitag                           ministry  \\\n",
      "0               /wiki/Manfred_Stolpe                      Staatskanzlei   \n",
      "1                   /wiki/Alwin_Ziel                      Staatskanzlei   \n",
      "2                   /wiki/Alwin_Ziel                            Inneres   \n",
      "3  /wiki/Klaus-Dieter_K%C3%BChbacher                           Finanzen   \n",
      "4     /wiki/Hans_Otto_Br%C3%A4utigam  Justiz und Beauftragter beim Bund   \n",
      "\n",
      "             ministry.clean                                 position  \\\n",
      "0             staatskanzlei                     Ministerpräsident/in   \n",
      "1             staatskanzlei  Stellvertretende/r Ministerpräsident/in   \n",
      "2                   inneres                              Minister/in   \n",
      "3                  finanzen                              Minister/in   \n",
      "4  justiz beauftragter bund                              Minister/in   \n",
      "\n",
      "                          position.clean   cabinet      party  ... migration  \\\n",
      "0                    Regierungsoberhaupt  Stolpe I        SPD  ...         0   \n",
      "1  Stellvertretendes Regierungsoberhaupt  Stolpe I        SPD  ...         0   \n",
      "2                            Minister/in  Stolpe I        SPD  ...         0   \n",
      "3                            Minister/in  Stolpe I        SPD  ...         0   \n",
      "4                            Minister/in  Stolpe I  parteilos  ...         0   \n",
      "\n",
      "  genderequality social international  interior  state_chancellery  \\\n",
      "0              0      0             0         0                  1   \n",
      "1              0      0             0         0                  1   \n",
      "2              0      0             0         1                  0   \n",
      "3              0      0             0         0                  0   \n",
      "4              0      0             0         0                  1   \n",
      "\n",
      "   start.date    end.date landtag.state.abb electoralperiod  \n",
      "0  1990-11-01  1994-10-10                bb               1  \n",
      "1  1990-11-01  1994-10-10                bb               1  \n",
      "2  1990-11-01  1994-10-10                bb               1  \n",
      "3  1990-11-01  1994-10-10                bb               1  \n",
      "4  1990-11-01  1994-10-10                bb               1  \n",
      "\n",
      "[5 rows x 44 columns]\n"
     ]
    }
   ],
   "source": [
    "cabinet_url = f\"https://raw.githubusercontent.com/StatePol/Database/main/_data/database/cabinet_{database_version}.csv\"\n",
    "cabinet_df = pd.read_csv(cabinet_url)\n",
    "print(cabinet_df.head())"
   ]
  }
 ],
 "metadata": {
  "kernelspec": {
   "display_name": "Python 3",
   "language": "python",
   "name": "python3"
  },
  "language_info": {
   "codemirror_mode": {
    "name": "ipython",
    "version": 3
   },
   "file_extension": ".py",
   "mimetype": "text/x-python",
   "name": "python",
   "nbconvert_exporter": "python",
   "pygments_lexer": "ipython3",
   "version": "3.10.12"
  }
 },
 "nbformat": 4,
 "nbformat_minor": 5
}
